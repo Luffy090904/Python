{
 "cells": [
  {
   "cell_type": "code",
   "execution_count": 1,
   "id": "3c70230f",
   "metadata": {},
   "outputs": [
    {
     "name": "stdout",
     "output_type": "stream",
     "text": [
      "Hello World!\n"
     ]
    }
   ],
   "source": [
    "print(\"Hello World!\")"
   ]
  },
  {
   "cell_type": "code",
   "execution_count": 2,
   "id": "b53861a5",
   "metadata": {},
   "outputs": [
    {
     "name": "stdout",
     "output_type": "stream",
     "text": [
      "10\n"
     ]
    }
   ],
   "source": [
    "print(10)"
   ]
  },
  {
   "cell_type": "markdown",
   "id": "85cec7c8",
   "metadata": {},
   "source": [
    "### commments"
   ]
  },
  {
   "cell_type": "markdown",
   "id": "37697d15",
   "metadata": {},
   "source": [
    "### is used to write comment"
   ]
  },
  {
   "cell_type": "markdown",
   "id": "a5f366c9",
   "metadata": {},
   "source": [
    "##### more the # size will be smaller"
   ]
  },
  {
   "cell_type": "markdown",
   "id": "3ac313fb",
   "metadata": {},
   "source": [
    "## less # size will be smaller"
   ]
  },
  {
   "cell_type": "markdown",
   "id": "f7cb1685",
   "metadata": {},
   "source": []
  },
  {
   "cell_type": "markdown",
   "id": "7eb9e957",
   "metadata": {},
   "source": [
    "## VARIABLES"
   ]
  },
  {
   "cell_type": "code",
   "execution_count": 7,
   "id": "9c4ce06c",
   "metadata": {},
   "outputs": [
    {
     "name": "stdout",
     "output_type": "stream",
     "text": [
      "harsh\n"
     ]
    }
   ],
   "source": [
    "name1 = \"harsh\"\n",
    "print(name1)"
   ]
  },
  {
   "cell_type": "code",
   "execution_count": 8,
   "id": "6085efe1",
   "metadata": {},
   "outputs": [
    {
     "data": {
      "text/plain": [
       "10"
      ]
     },
     "execution_count": 8,
     "metadata": {},
     "output_type": "execute_result"
    }
   ],
   "source": [
    "_name2 = 10\n",
    "_name2"
   ]
  },
  {
   "cell_type": "code",
   "execution_count": 9,
   "id": "4a489512",
   "metadata": {},
   "outputs": [
    {
     "data": {
      "text/plain": [
       "int"
      ]
     },
     "execution_count": 9,
     "metadata": {},
     "output_type": "execute_result"
    }
   ],
   "source": [
    "x = 10\n",
    "type(x)"
   ]
  },
  {
   "cell_type": "code",
   "execution_count": 11,
   "id": "bdf3c8c4",
   "metadata": {},
   "outputs": [
    {
     "data": {
      "text/plain": [
       "(10.4, float)"
      ]
     },
     "execution_count": 11,
     "metadata": {},
     "output_type": "execute_result"
    }
   ],
   "source": [
    "x=10.4\n",
    "x,type(x)"
   ]
  },
  {
   "cell_type": "code",
   "execution_count": 12,
   "id": "401c1d5d",
   "metadata": {},
   "outputs": [
    {
     "data": {
      "text/plain": [
       "bool"
      ]
     },
     "execution_count": 12,
     "metadata": {},
     "output_type": "execute_result"
    }
   ],
   "source": [
    "x=True\n",
    "type(x)"
   ]
  },
  {
   "cell_type": "code",
   "execution_count": 13,
   "id": "1f1fdaac",
   "metadata": {},
   "outputs": [
    {
     "data": {
      "text/plain": [
       "('harsh', str)"
      ]
     },
     "execution_count": 13,
     "metadata": {},
     "output_type": "execute_result"
    }
   ],
   "source": [
    "name=\"harsh\"\n",
    "name,type(name)"
   ]
  },
  {
   "cell_type": "code",
   "execution_count": null,
   "id": "09f68256",
   "metadata": {},
   "outputs": [],
   "source": []
  }
 ],
 "metadata": {
  "kernelspec": {
   "display_name": "Python 3 (ipykernel)",
   "language": "python",
   "name": "python3"
  },
  "language_info": {
   "codemirror_mode": {
    "name": "ipython",
    "version": 3
   },
   "file_extension": ".py",
   "mimetype": "text/x-python",
   "name": "python",
   "nbconvert_exporter": "python",
   "pygments_lexer": "ipython3",
   "version": "3.10.9"
  }
 },
 "nbformat": 4,
 "nbformat_minor": 5
}
